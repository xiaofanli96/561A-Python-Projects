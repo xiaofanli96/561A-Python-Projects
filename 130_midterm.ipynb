{
 "cells": [
  {
   "cell_type": "markdown",
   "metadata": {},
   "source": [
    "# Knapsack problem\n",
    "## Group 130\n",
    " ID: 474841\n",
    " \n",
    " ID: 476827"
   ]
  },
  {
   "cell_type": "code",
   "execution_count": 2,
   "metadata": {},
   "outputs": [],
   "source": [
    "import numpy as np\n",
    "import copy\n",
    "def bag(n, c, w, v):\n",
    "    value = [[0 for j in range(c + 1)] for i in range(n + 1)]\n",
    "    for i in range(1, n + 1):\n",
    "        for j in range(1, c + 1):\n",
    "            value[i][j] = value[i - 1][j]\n",
    "            if j >= w[i - 1]:\n",
    "                value[i][j] = max(value[i - 1][j - w[i - 1]] + v[i - 1],value[i][j])\n",
    "    return value\n",
    "    \n",
    "\n",
    "\n",
    "def choose(n, c, w, value):\n",
    "    x = [0 for i in range(n)]\n",
    "    j = c\n",
    "    for i in range(n, 0, -1):\n",
    "        if value[i][j] > value[i - 1][j]:\n",
    "            x[i - 1] = 1\n",
    "            j -= w[i - 1]\n",
    "    return x"
   ]
  },
  {
   "cell_type": "code",
   "execution_count": 4,
   "metadata": {},
   "outputs": [
    {
     "name": "stdout",
     "output_type": "stream",
     "text": [
      "1\n",
      "2\n",
      "3\n",
      "4\n",
      "5\n",
      "6\n",
      "7\n",
      "8\n",
      "9\n",
      "10\n",
      "11\n",
      "12\n",
      "13\n",
      "14\n"
     ]
    },
    {
     "ename": "KeyboardInterrupt",
     "evalue": "",
     "output_type": "error",
     "traceback": [
      "\u001b[0;31m---------------------------------------------------------------------------\u001b[0m",
      "\u001b[0;31mKeyboardInterrupt\u001b[0m                         Traceback (most recent call last)",
      "\u001b[0;32m<ipython-input-4-34e343ef8dd5>\u001b[0m in \u001b[0;36m<module>\u001b[0;34m\u001b[0m\n\u001b[1;32m     22\u001b[0m \u001b[0;34m\u001b[0m\u001b[0m\n\u001b[1;32m     23\u001b[0m     avg =[ sum([value_all[m][i] for m in range(1,len(value_all))])/30000\n\u001b[0;32m---> 24\u001b[0;31m                for i in range((len(list_value)))]\n\u001b[0m\u001b[1;32m     25\u001b[0m     \u001b[0mbest_c\u001b[0m \u001b[0;34m=\u001b[0m \u001b[0mavg\u001b[0m\u001b[0;34m.\u001b[0m\u001b[0mindex\u001b[0m\u001b[0;34m(\u001b[0m\u001b[0mmax\u001b[0m\u001b[0;34m(\u001b[0m\u001b[0mavg\u001b[0m\u001b[0;34m)\u001b[0m\u001b[0;34m)\u001b[0m \u001b[0;34m+\u001b[0m\u001b[0;36m100\u001b[0m\u001b[0;34m\u001b[0m\u001b[0;34m\u001b[0m\u001b[0m\n\u001b[1;32m     26\u001b[0m     \u001b[0mcount\u001b[0m \u001b[0;34m+=\u001b[0m \u001b[0;36m1\u001b[0m\u001b[0;34m\u001b[0m\u001b[0;34m\u001b[0m\u001b[0m\n",
      "\u001b[0;32m<ipython-input-4-34e343ef8dd5>\u001b[0m in \u001b[0;36m<listcomp>\u001b[0;34m(.0)\u001b[0m\n\u001b[1;32m     22\u001b[0m \u001b[0;34m\u001b[0m\u001b[0m\n\u001b[1;32m     23\u001b[0m     avg =[ sum([value_all[m][i] for m in range(1,len(value_all))])/30000\n\u001b[0;32m---> 24\u001b[0;31m                for i in range((len(list_value)))]\n\u001b[0m\u001b[1;32m     25\u001b[0m     \u001b[0mbest_c\u001b[0m \u001b[0;34m=\u001b[0m \u001b[0mavg\u001b[0m\u001b[0;34m.\u001b[0m\u001b[0mindex\u001b[0m\u001b[0;34m(\u001b[0m\u001b[0mmax\u001b[0m\u001b[0;34m(\u001b[0m\u001b[0mavg\u001b[0m\u001b[0;34m)\u001b[0m\u001b[0;34m)\u001b[0m \u001b[0;34m+\u001b[0m\u001b[0;36m100\u001b[0m\u001b[0;34m\u001b[0m\u001b[0;34m\u001b[0m\u001b[0m\n\u001b[1;32m     26\u001b[0m     \u001b[0mcount\u001b[0m \u001b[0;34m+=\u001b[0m \u001b[0;36m1\u001b[0m\u001b[0;34m\u001b[0m\u001b[0;34m\u001b[0m\u001b[0m\n",
      "\u001b[0;32m<ipython-input-4-34e343ef8dd5>\u001b[0m in \u001b[0;36m<listcomp>\u001b[0;34m(.0)\u001b[0m\n\u001b[1;32m     21\u001b[0m                 \u001b[0mvalue_all\u001b[0m\u001b[0;34m[\u001b[0m\u001b[0;34m-\u001b[0m\u001b[0;36m1\u001b[0m\u001b[0;34m]\u001b[0m\u001b[0;34m[\u001b[0m\u001b[0mi\u001b[0m\u001b[0;34m]\u001b[0m\u001b[0;34m=\u001b[0m\u001b[0;36m0\u001b[0m\u001b[0;34m\u001b[0m\u001b[0;34m\u001b[0m\u001b[0m\n\u001b[1;32m     22\u001b[0m \u001b[0;34m\u001b[0m\u001b[0m\n\u001b[0;32m---> 23\u001b[0;31m     avg =[ sum([value_all[m][i] for m in range(1,len(value_all))])/30000\n\u001b[0m\u001b[1;32m     24\u001b[0m                for i in range((len(list_value)))]\n\u001b[1;32m     25\u001b[0m     \u001b[0mbest_c\u001b[0m \u001b[0;34m=\u001b[0m \u001b[0mavg\u001b[0m\u001b[0;34m.\u001b[0m\u001b[0mindex\u001b[0m\u001b[0;34m(\u001b[0m\u001b[0mmax\u001b[0m\u001b[0;34m(\u001b[0m\u001b[0mavg\u001b[0m\u001b[0;34m)\u001b[0m\u001b[0;34m)\u001b[0m \u001b[0;34m+\u001b[0m\u001b[0;36m100\u001b[0m\u001b[0;34m\u001b[0m\u001b[0;34m\u001b[0m\u001b[0m\n",
      "\u001b[0;31mKeyboardInterrupt\u001b[0m: "
     ]
    }
   ],
   "source": [
    "f_lines = open('../Knapsack_Instances.csv').read().splitlines()\n",
    "\n",
    "f_new = open('./130_midterm_knapsack.csv','w')\n",
    "for i in range(int(len(f_lines)/3)):\n",
    "    w = [int(w) for w in f_lines[3*i].split(',')]\n",
    "    v = [float(v) for v in f_lines[3*i+1].split(',')]\n",
    "    n = len(w)\n",
    "    list_value =[]\n",
    "    for c in range(100,151):\n",
    "        values = bag(n,c,w,v)\n",
    "        list_value.append(values[-1][-1])\n",
    "    value_all=[list(range(100,151))]\n",
    "    for i in range(30000):\n",
    "        value_all.append(copy.deepcopy(list_value))\n",
    "        C = np.random.uniform(100,150)\n",
    "        for i in range(len(list_value)):\n",
    "            if C < value_all[0][i]:\n",
    "                value_all[-1][i]=0\n",
    "\n",
    "    avg =[ sum([value_all[m][i] for m in range(1,len(value_all))])/30000\n",
    "               for i in range((len(list_value)))]\n",
    "    best_c = avg.index(max(avg)) +100\n",
    "    chose = choose(n,best_c,w,values)\n",
    "    f_new.write('%s\\n'%str(w).strip('[]'))\n",
    "    f_new.write('%s\\n'%str(v).strip('[]'))\n",
    "    f_new.write('%s\\n'%str(chose).strip('[]'))\n",
    "    \n",
    "f_new.close()"
   ]
  },
  {
   "cell_type": "code",
   "execution_count": null,
   "metadata": {},
   "outputs": [],
   "source": []
  }
 ],
 "metadata": {
  "kernelspec": {
   "display_name": "Python 3",
   "language": "python",
   "name": "python3"
  },
  "language_info": {
   "codemirror_mode": {
    "name": "ipython",
    "version": 3
   },
   "file_extension": ".py",
   "mimetype": "text/x-python",
   "name": "python",
   "nbconvert_exporter": "python",
   "pygments_lexer": "ipython3",
   "version": "3.6.1"
  }
 },
 "nbformat": 4,
 "nbformat_minor": 4
}
