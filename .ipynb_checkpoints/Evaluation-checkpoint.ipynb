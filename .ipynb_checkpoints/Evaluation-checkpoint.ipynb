{
 "cells": [
  {
   "cell_type": "markdown",
   "metadata": {},
   "source": [
    "# Evaluating the Solutions for the Knapsack Competition"
   ]
  },
  {
   "cell_type": "markdown",
   "metadata": {},
   "source": [
    "### First lets generate the 500 random knapsack sizes and write the results to a csv"
   ]
  },
  {
   "cell_type": "code",
   "execution_count": 14,
   "metadata": {
    "collapsed": true
   },
   "outputs": [],
   "source": [
    "import numpy as np\n",
    "import pandas as pd\n",
    "\n",
    "f = open(\"Knap_Sizes.csv\", \"w\")\n",
    "\n",
    "knap_sizes = np.random.uniform(100,150,500)\n",
    "for size in knap_sizes:\n",
    "    f.write(\"%0.2f\\n\" %size)\n",
    "    \n",
    "f.close()"
   ]
  },
  {
   "cell_type": "markdown",
   "metadata": {},
   "source": [
    "### Last, let us evaluate the solution file based on the randomly generated knapsack sizes. "
   ]
  },
  {
   "cell_type": "code",
   "execution_count": 16,
   "metadata": {
    "scrolled": false
   },
   "outputs": [
    {
     "data": {
      "text/plain": [
       "{'test': 12680.320000000007}"
      ]
     },
     "execution_count": 16,
     "metadata": {},
     "output_type": "execute_result"
    }
   ],
   "source": [
    "submitted_file_path = \"130_midterm_knapsack.csv\"\n",
    "\n",
    "def Evaluate_Sol(file_path):\n",
    "    student_id = file_path.split(\"_\")[0]\n",
    "    df_solution = pd.read_csv(file_path, header = None)\n",
    "    df_solution.reset_index(inplace = True, drop = True)\n",
    "    current_obj = 0 \n",
    "\n",
    "    for i in range(0,1500,3):\n",
    "        sizes = list(df_solution.loc[i, 0:49])\n",
    "        rewards = list(df_solution.loc[i+1, 0:49])\n",
    "        solution = [bool(i) for i in list(df_solution.loc[i+2, 0:49])]\n",
    "        C = knap_sizes[int(i/3)]\n",
    "        #print(sizes)\n",
    "        #print(solution)\n",
    "        total_size = np.dot(sizes,solution)\n",
    "        total_reward = np.dot(rewards,solution)\n",
    "        #print(total_size)\n",
    "        if total_size <= C:\n",
    "            current_obj+=total_reward\n",
    "    return {student_id: current_obj}\n",
    "\n",
    "\n",
    "final_results = Evaluate_Sol(submitted_file_path)\n",
    "final_results"
   ]
  },
  {
   "cell_type": "code",
   "execution_count": null,
   "metadata": {
    "collapsed": true
   },
   "outputs": [],
   "source": []
  }
 ],
 "metadata": {
  "kernelspec": {
   "display_name": "Python 3",
   "language": "python",
   "name": "python3"
  },
  "language_info": {
   "codemirror_mode": {
    "name": "ipython",
    "version": 3
   },
   "file_extension": ".py",
   "mimetype": "text/x-python",
   "name": "python",
   "nbconvert_exporter": "python",
   "pygments_lexer": "ipython3",
   "version": "3.6.1"
  },
  "toc": {
   "nav_menu": {
    "height": "30px",
    "width": "252px"
   },
   "number_sections": true,
   "sideBar": true,
   "skip_h1_title": false,
   "toc_cell": false,
   "toc_position": {},
   "toc_section_display": "block",
   "toc_window_display": false
  }
 },
 "nbformat": 4,
 "nbformat_minor": 2
}
